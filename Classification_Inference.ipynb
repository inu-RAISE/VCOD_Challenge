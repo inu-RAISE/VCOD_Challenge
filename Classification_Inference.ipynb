{
 "cells": [
  {
   "cell_type": "code",
   "execution_count": 1,
   "metadata": {},
   "outputs": [
    {
     "name": "stderr",
     "output_type": "stream",
     "text": [
      "/opt/conda/lib/python3.6/site-packages/tqdm/auto.py:22: TqdmWarning: IProgress not found. Please update jupyter and ipywidgets. See https://ipywidgets.readthedocs.io/en/stable/user_install.html\n",
      "  from .autonotebook import tqdm as notebook_tqdm\n"
     ]
    }
   ],
   "source": [
    "import pandas as pd\n",
    "import numpy as np\n",
    "from glob import glob\n",
    "\n",
    "from PIL import Image\n",
    "import cv2\n",
    "from tqdm import tqdm\n",
    "\n",
    "import os\n",
    "import shutil\n",
    "import json\n",
    "\n",
    "import torch\n",
    "from torch import nn\n",
    "from torchvision import models\n",
    "from torch.utils.data import Dataset, DataLoader\n",
    "from torch.optim.lr_scheduler import ReduceLROnPlateau\n",
    "import albumentations as A\n",
    "from efficientnet_pytorch import EfficientNet\n",
    "from pprint import pprint\n",
    "import timm\n",
    "import random\n",
    "\n",
    "import os\n",
    "import warnings\n",
    "warnings.filterwarnings(\"ignore\")\n",
    "warnings.simplefilter('ignore')\n",
    "import matplotlib.pyplot as plt\n",
    "%matplotlib inline\n",
    "\n",
    "from sklearn.model_selection import StratifiedKFold\n",
    "from sklearn.model_selection import KFold\n",
    "\n",
    "torch.manual_seed(42)\n",
    "torch.cuda.manual_seed(42)\n",
    "torch.cuda.manual_seed_all(42)\n",
    "np.random.seed(42)\n",
    "random.seed(42)"
   ]
  },
  {
   "cell_type": "code",
   "execution_count": 2,
   "metadata": {},
   "outputs": [],
   "source": [
    "decoder = {\"0\" : \"car_back\",\n",
    "           \"1\" : \"car_side\",\n",
    "           \"2\" : \"car_front\",\n",
    "           \"3\" : \"truck_back\",\n",
    "           \"4\" : \"truck_side\",\n",
    "           \"5\" : \"truck_front\",\n",
    "           \"6\" : \"motorcycle_back\",\n",
    "           \"7\" : \"motorcycle_side\",\n",
    "           \"8\" : \"motorcycle_front\",\n",
    "           \"9\" : \"bicycle_back\",\n",
    "           \"10\" : \"bicycle_side\",\n",
    "           \"11\" : \"bicycle_front\"}"
   ]
  },
  {
   "cell_type": "code",
   "execution_count": 3,
   "metadata": {},
   "outputs": [],
   "source": [
    "test_name = \"v1\""
   ]
  },
  {
   "cell_type": "code",
   "execution_count": 4,
   "metadata": {},
   "outputs": [
    {
     "name": "stderr",
     "output_type": "stream",
     "text": [
      "100%|██████████| 1500/1500 [00:00<00:00, 415964.03it/s]\n"
     ]
    }
   ],
   "source": [
    "data_path = f'/data/IEEE_BigData/test/test_{test_name}/'\n",
    "\n",
    "txt = open(f\"./detection_submission/test{test_name}_submission_0926_01.txt\", \"r\")\n",
    "total_txt = []\n",
    "lines = txt.readlines()\n",
    "for line in tqdm(lines):\n",
    "    line = line.split(\" \")\n",
    "    total_txt.append(line)"
   ]
  },
  {
   "cell_type": "markdown",
   "metadata": {},
   "source": [
    "model = torch.load(\"./models/Py_Test_15_1.pt\")\n",
    "model = model.cuda()\n",
    "\n",
    "m = nn.Softmax(dim=1)"
   ]
  },
  {
   "cell_type": "code",
   "execution_count": 5,
   "metadata": {},
   "outputs": [],
   "source": [
    "model = [torch.load(f\"./models/Py_efficientnet-b7_GAN_0922_25_{i}.pt\", map_location=\"cuda:0\") for i in range(1, 6)]\n",
    "model.append(torch.load(f\"./models/Py_efficientnet-b7_Semi_0928_25_0.pt\", map_location=\"cuda:0\"))\n",
    "\n",
    "m = nn.Softmax(dim=1)"
   ]
  },
  {
   "cell_type": "code",
   "execution_count": 6,
   "metadata": {
    "scrolled": true
   },
   "outputs": [
    {
     "name": "stderr",
     "output_type": "stream",
     "text": [
      "100%|██████████| 1500/1500 [16:46<00:00,  1.49it/s]\n"
     ]
    }
   ],
   "source": [
    "result_txt = []\n",
    "\n",
    "for i in tqdm(total_txt):\n",
    "    file_result = []\n",
    "    if len(i) == 1:\n",
    "        file_result.append(i[0].replace(\"\\n\", \"\"))\n",
    "        result_txt.append(file_result)\n",
    "        continue\n",
    "    else:\n",
    "        file_result.append(i[0])\n",
    "    img_source = data_path + i[0].replace(\".txt\", \".jpg\")\n",
    "    img = cv2.imread(img_source).astype(np.float32)/255\n",
    "    \n",
    "    for j in range((len(i) - 1) // 6):\n",
    "        min_x = int(float(i[3 + j*6]))\n",
    "        min_y = int(float(i[4 + j*6]))\n",
    "        max_x = int(float(i[5 + j*6]))\n",
    "        max_y = int(float(i[6 + j*6]))\n",
    "        \n",
    "        img_ = img[min_y:max_y, min_x:max_x, :]\n",
    "        img_ = cv2.resize(img_, (384, 384))\n",
    "        img_ = np.transpose(img_, (2,0,1))\n",
    "        img_ = torch.tensor(img_, dtype=torch.float32)\n",
    "        img_ = img_.unsqueeze(0)\n",
    "        img_ = img_.to(\"cuda:0\")\n",
    "        \n",
    "        proportion = []\n",
    "        \n",
    "        for k in model:\n",
    "            output = k(img_)\n",
    "            proportion.append(m(output).cpu().detach().numpy())\n",
    "            \n",
    "        total_proportion = np.mean(proportion, 0)\n",
    "        output = str(int(np.argmax(total_proportion)))\n",
    "        output = decoder[output]\n",
    "        \n",
    "        file_result.append(output)\n",
    "        file_result.append(float(np.max(total_proportion)))\n",
    "        file_result.append(min_x)\n",
    "        file_result.append(min_y)\n",
    "        file_result.append(max_x)\n",
    "        file_result.append(max_y)\n",
    "        \n",
    "    result_txt.append(file_result)"
   ]
  },
  {
   "cell_type": "code",
   "execution_count": 7,
   "metadata": {},
   "outputs": [],
   "source": [
    "submission = open(f\"./submission/final_{test_name}_submission_0930_01.txt\", \"w\")"
   ]
  },
  {
   "cell_type": "code",
   "execution_count": 8,
   "metadata": {},
   "outputs": [
    {
     "name": "stderr",
     "output_type": "stream",
     "text": [
      "100%|██████████| 1500/1500 [00:00<00:00, 116532.18it/s]\n"
     ]
    }
   ],
   "source": [
    "for i in tqdm(result_txt):\n",
    "    line = \"\"\n",
    "    for j in i:\n",
    "        line = line + str(j) + \" \"\n",
    "    line = line + \"\\n\"\n",
    "        \n",
    "    submission.write(line)\n",
    "submission.close()"
   ]
  },
  {
   "cell_type": "code",
   "execution_count": 9,
   "metadata": {},
   "outputs": [],
   "source": [
    "test_name = \"v2\""
   ]
  },
  {
   "cell_type": "code",
   "execution_count": 10,
   "metadata": {},
   "outputs": [
    {
     "name": "stderr",
     "output_type": "stream",
     "text": [
      "100%|██████████| 1500/1500 [00:00<00:00, 352838.09it/s]\n"
     ]
    }
   ],
   "source": [
    "data_path = f'/data/IEEE_BigData/test/test_{test_name}/'\n",
    "\n",
    "txt = open(f\"./detection_submission/test{test_name}_submission_0926_01.txt\", \"r\")\n",
    "total_txt = []\n",
    "lines = txt.readlines()\n",
    "for line in tqdm(lines):\n",
    "    line = line.split(\" \")\n",
    "    total_txt.append(line)"
   ]
  },
  {
   "cell_type": "code",
   "execution_count": 11,
   "metadata": {},
   "outputs": [],
   "source": [
    "model = [torch.load(f\"./models/Py_efficientnet-b7_GAN_0922_25_{i}.pt\", map_location=\"cuda:0\") for i in range(1, 6)]\n",
    "model.append(torch.load(f\"./models/Py_efficientnet-b7_Semi_0928_25_0.pt\", map_location=\"cuda:0\"))\n",
    "\n",
    "m = nn.Softmax(dim=1)"
   ]
  },
  {
   "cell_type": "code",
   "execution_count": 12,
   "metadata": {
    "scrolled": true
   },
   "outputs": [
    {
     "name": "stderr",
     "output_type": "stream",
     "text": [
      "100%|██████████| 1500/1500 [20:34<00:00,  1.21it/s]\n"
     ]
    }
   ],
   "source": [
    "result_txt = []\n",
    "\n",
    "for i in tqdm(total_txt):\n",
    "    file_result = []\n",
    "    if len(i) == 1:\n",
    "        file_result.append(i[0].replace(\"\\n\", \"\"))\n",
    "        result_txt.append(file_result)\n",
    "        continue\n",
    "    else:\n",
    "        file_result.append(i[0])\n",
    "    img_source = data_path + i[0].replace(\".txt\", \".jpg\")\n",
    "    img = cv2.imread(img_source).astype(np.float32)/255\n",
    "    \n",
    "    for j in range((len(i) - 1) // 6):\n",
    "        min_x = int(float(i[3 + j*6]))\n",
    "        min_y = int(float(i[4 + j*6]))\n",
    "        max_x = int(float(i[5 + j*6]))\n",
    "        max_y = int(float(i[6 + j*6]))\n",
    "        \n",
    "        img_ = img[min_y:max_y, min_x:max_x, :]\n",
    "        img_ = cv2.resize(img_, (384, 384))\n",
    "        img_ = np.transpose(img_, (2,0,1))\n",
    "        img_ = torch.tensor(img_, dtype=torch.float32)\n",
    "        img_ = img_.unsqueeze(0)\n",
    "        img_ = img_.to(\"cuda:0\")\n",
    "        \n",
    "        proportion = []\n",
    "        \n",
    "        for k in model:\n",
    "            output = k(img_)\n",
    "            proportion.append(m(output).cpu().detach().numpy())\n",
    "            \n",
    "        total_proportion = np.mean(proportion, 0)\n",
    "        output = str(int(np.argmax(total_proportion)))\n",
    "        output = decoder[output]\n",
    "        \n",
    "        file_result.append(output)\n",
    "        file_result.append(float(np.max(total_proportion)))\n",
    "        file_result.append(min_x)\n",
    "        file_result.append(min_y)\n",
    "        file_result.append(max_x)\n",
    "        file_result.append(max_y)\n",
    "        \n",
    "    result_txt.append(file_result)"
   ]
  },
  {
   "cell_type": "code",
   "execution_count": 13,
   "metadata": {},
   "outputs": [],
   "source": [
    "submission = open(f\"./submission/final_{test_name}_submission_0930_01.txt\", \"w\")"
   ]
  },
  {
   "cell_type": "code",
   "execution_count": 14,
   "metadata": {},
   "outputs": [
    {
     "name": "stderr",
     "output_type": "stream",
     "text": [
      "100%|██████████| 1500/1500 [00:00<00:00, 82511.98it/s]\n"
     ]
    }
   ],
   "source": [
    "for i in tqdm(result_txt):\n",
    "    line = \"\"\n",
    "    for j in i:\n",
    "        line = line + str(j) + \" \"\n",
    "    line = line + \"\\n\"\n",
    "        \n",
    "    submission.write(line)\n",
    "submission.close()"
   ]
  },
  {
   "cell_type": "code",
   "execution_count": null,
   "metadata": {},
   "outputs": [],
   "source": []
  },
  {
   "cell_type": "code",
   "execution_count": null,
   "metadata": {},
   "outputs": [],
   "source": []
  }
 ],
 "metadata": {
  "kernelspec": {
   "display_name": "Python 3",
   "language": "python",
   "name": "python3"
  },
  "language_info": {
   "codemirror_mode": {
    "name": "ipython",
    "version": 3
   },
   "file_extension": ".py",
   "mimetype": "text/x-python",
   "name": "python",
   "nbconvert_exporter": "python",
   "pygments_lexer": "ipython3",
   "version": "3.6.10"
  }
 },
 "nbformat": 4,
 "nbformat_minor": 4
}
