{
 "cells": [
  {
   "cell_type": "code",
   "execution_count": 1,
   "metadata": {},
   "outputs": [
    {
     "name": "stderr",
     "output_type": "stream",
     "text": [
      "/opt/conda/lib/python3.6/site-packages/tqdm/auto.py:22: TqdmWarning: IProgress not found. Please update jupyter and ipywidgets. See https://ipywidgets.readthedocs.io/en/stable/user_install.html\n",
      "  from .autonotebook import tqdm as notebook_tqdm\n"
     ]
    }
   ],
   "source": [
    "import pandas as pd\n",
    "import numpy as np\n",
    "from glob import glob\n",
    "\n",
    "from PIL import Image\n",
    "import cv2\n",
    "from tqdm import tqdm\n",
    "\n",
    "import os\n",
    "import shutil\n",
    "import json\n",
    "\n",
    "import torch\n",
    "from torch import nn\n",
    "from torchvision import models\n",
    "from torch.utils.data import Dataset, DataLoader\n",
    "from torch.optim.lr_scheduler import ReduceLROnPlateau\n",
    "import albumentations as A\n",
    "from efficientnet_pytorch import EfficientNet\n",
    "from pprint import pprint\n",
    "import timm\n",
    "import random\n",
    "from torch.autograd import Variable\n",
    "\n",
    "import os\n",
    "import warnings\n",
    "warnings.filterwarnings(\"ignore\")\n",
    "warnings.simplefilter('ignore')\n",
    "import matplotlib.pyplot as plt\n",
    "\n",
    "from sklearn.model_selection import StratifiedKFold\n",
    "from sklearn.model_selection import KFold\n",
    "\n",
    "torch.manual_seed(42)\n",
    "torch.cuda.manual_seed(42)\n",
    "torch.cuda.manual_seed_all(42)\n",
    "np.random.seed(42)\n",
    "random.seed(42)"
   ]
  },
  {
   "cell_type": "code",
   "execution_count": 2,
   "metadata": {},
   "outputs": [],
   "source": [
    "labels = pd.read_csv(\"/data/IEEE_BigData/cls_crop/total_labels_0915_01.csv\")\n",
    "\n",
    "#labels_semi_1 = pd.read_csv(\"/data/IEEE_BigData/cls_crop/VOC_cycle_semi_v1.csv\")"
   ]
  },
  {
   "cell_type": "code",
   "execution_count": 3,
   "metadata": {},
   "outputs": [
    {
     "data": {
      "text/html": [
       "<div>\n",
       "<style scoped>\n",
       "    .dataframe tbody tr th:only-of-type {\n",
       "        vertical-align: middle;\n",
       "    }\n",
       "\n",
       "    .dataframe tbody tr th {\n",
       "        vertical-align: top;\n",
       "    }\n",
       "\n",
       "    .dataframe thead th {\n",
       "        text-align: right;\n",
       "    }\n",
       "</style>\n",
       "<table border=\"1\" class=\"dataframe\">\n",
       "  <thead>\n",
       "    <tr style=\"text-align: right;\">\n",
       "      <th></th>\n",
       "      <th>File</th>\n",
       "      <th>Class</th>\n",
       "      <th>min_x</th>\n",
       "      <th>min_y</th>\n",
       "      <th>max_x</th>\n",
       "      <th>max_y</th>\n",
       "      <th>v_cls</th>\n",
       "      <th>semi_v1</th>\n",
       "      <th>semi_v1_conf</th>\n",
       "    </tr>\n",
       "  </thead>\n",
       "  <tbody>\n",
       "    <tr>\n",
       "      <th>0</th>\n",
       "      <td>/data/IEEE_BigData/cls_crop/VOC_cycle/0000001.jpg</td>\n",
       "      <td>-1</td>\n",
       "      <td>162</td>\n",
       "      <td>471</td>\n",
       "      <td>241</td>\n",
       "      <td>513</td>\n",
       "      <td>0</td>\n",
       "      <td>7</td>\n",
       "      <td>0.999489</td>\n",
       "    </tr>\n",
       "    <tr>\n",
       "      <th>1</th>\n",
       "      <td>/data/IEEE_BigData/cls_crop/VOC_cycle/0000012.jpg</td>\n",
       "      <td>-1</td>\n",
       "      <td>451</td>\n",
       "      <td>459</td>\n",
       "      <td>513</td>\n",
       "      <td>516</td>\n",
       "      <td>0</td>\n",
       "      <td>7</td>\n",
       "      <td>0.998670</td>\n",
       "    </tr>\n",
       "    <tr>\n",
       "      <th>2</th>\n",
       "      <td>/data/IEEE_BigData/cls_crop/VOC_cycle/0000014.jpg</td>\n",
       "      <td>-1</td>\n",
       "      <td>1142</td>\n",
       "      <td>428</td>\n",
       "      <td>1166</td>\n",
       "      <td>453</td>\n",
       "      <td>0</td>\n",
       "      <td>6</td>\n",
       "      <td>0.973409</td>\n",
       "    </tr>\n",
       "    <tr>\n",
       "      <th>3</th>\n",
       "      <td>/data/IEEE_BigData/cls_crop/VOC_cycle/0000015.jpg</td>\n",
       "      <td>-1</td>\n",
       "      <td>1152</td>\n",
       "      <td>441</td>\n",
       "      <td>1186</td>\n",
       "      <td>473</td>\n",
       "      <td>0</td>\n",
       "      <td>6</td>\n",
       "      <td>0.988077</td>\n",
       "    </tr>\n",
       "    <tr>\n",
       "      <th>4</th>\n",
       "      <td>/data/IEEE_BigData/cls_crop/VOC_cycle/0000016.jpg</td>\n",
       "      <td>-1</td>\n",
       "      <td>1270</td>\n",
       "      <td>449</td>\n",
       "      <td>1328</td>\n",
       "      <td>499</td>\n",
       "      <td>0</td>\n",
       "      <td>6</td>\n",
       "      <td>0.958759</td>\n",
       "    </tr>\n",
       "    <tr>\n",
       "      <th>...</th>\n",
       "      <td>...</td>\n",
       "      <td>...</td>\n",
       "      <td>...</td>\n",
       "      <td>...</td>\n",
       "      <td>...</td>\n",
       "      <td>...</td>\n",
       "      <td>...</td>\n",
       "      <td>...</td>\n",
       "      <td>...</td>\n",
       "    </tr>\n",
       "    <tr>\n",
       "      <th>3313</th>\n",
       "      <td>/data/IEEE_BigData/cls_crop/VOC_cycle/0015873.jpg</td>\n",
       "      <td>-1</td>\n",
       "      <td>179</td>\n",
       "      <td>443</td>\n",
       "      <td>321</td>\n",
       "      <td>551</td>\n",
       "      <td>0</td>\n",
       "      <td>7</td>\n",
       "      <td>0.997142</td>\n",
       "    </tr>\n",
       "    <tr>\n",
       "      <th>3314</th>\n",
       "      <td>/data/IEEE_BigData/cls_crop/VOC_cycle/0015880.jpg</td>\n",
       "      <td>-1</td>\n",
       "      <td>1560</td>\n",
       "      <td>434</td>\n",
       "      <td>1617</td>\n",
       "      <td>464</td>\n",
       "      <td>0</td>\n",
       "      <td>7</td>\n",
       "      <td>0.996551</td>\n",
       "    </tr>\n",
       "    <tr>\n",
       "      <th>3315</th>\n",
       "      <td>/data/IEEE_BigData/cls_crop/VOC_cycle/0015881.jpg</td>\n",
       "      <td>-1</td>\n",
       "      <td>1561</td>\n",
       "      <td>433</td>\n",
       "      <td>1618</td>\n",
       "      <td>464</td>\n",
       "      <td>0</td>\n",
       "      <td>7</td>\n",
       "      <td>0.995811</td>\n",
       "    </tr>\n",
       "    <tr>\n",
       "      <th>3316</th>\n",
       "      <td>/data/IEEE_BigData/cls_crop/VOC_cycle/0015882.jpg</td>\n",
       "      <td>-1</td>\n",
       "      <td>1560</td>\n",
       "      <td>434</td>\n",
       "      <td>1617</td>\n",
       "      <td>464</td>\n",
       "      <td>0</td>\n",
       "      <td>7</td>\n",
       "      <td>0.994871</td>\n",
       "    </tr>\n",
       "    <tr>\n",
       "      <th>3317</th>\n",
       "      <td>/data/IEEE_BigData/cls_crop/VOC_cycle/0015890.jpg</td>\n",
       "      <td>-1</td>\n",
       "      <td>113</td>\n",
       "      <td>313</td>\n",
       "      <td>139</td>\n",
       "      <td>333</td>\n",
       "      <td>0</td>\n",
       "      <td>9</td>\n",
       "      <td>0.984561</td>\n",
       "    </tr>\n",
       "  </tbody>\n",
       "</table>\n",
       "<p>3318 rows × 9 columns</p>\n",
       "</div>"
      ],
      "text/plain": [
       "                                                   File  Class  min_x  min_y  \\\n",
       "0     /data/IEEE_BigData/cls_crop/VOC_cycle/0000001.jpg     -1    162    471   \n",
       "1     /data/IEEE_BigData/cls_crop/VOC_cycle/0000012.jpg     -1    451    459   \n",
       "2     /data/IEEE_BigData/cls_crop/VOC_cycle/0000014.jpg     -1   1142    428   \n",
       "3     /data/IEEE_BigData/cls_crop/VOC_cycle/0000015.jpg     -1   1152    441   \n",
       "4     /data/IEEE_BigData/cls_crop/VOC_cycle/0000016.jpg     -1   1270    449   \n",
       "...                                                 ...    ...    ...    ...   \n",
       "3313  /data/IEEE_BigData/cls_crop/VOC_cycle/0015873.jpg     -1    179    443   \n",
       "3314  /data/IEEE_BigData/cls_crop/VOC_cycle/0015880.jpg     -1   1560    434   \n",
       "3315  /data/IEEE_BigData/cls_crop/VOC_cycle/0015881.jpg     -1   1561    433   \n",
       "3316  /data/IEEE_BigData/cls_crop/VOC_cycle/0015882.jpg     -1   1560    434   \n",
       "3317  /data/IEEE_BigData/cls_crop/VOC_cycle/0015890.jpg     -1    113    313   \n",
       "\n",
       "      max_x  max_y  v_cls  semi_v1  semi_v1_conf  \n",
       "0       241    513      0        7      0.999489  \n",
       "1       513    516      0        7      0.998670  \n",
       "2      1166    453      0        6      0.973409  \n",
       "3      1186    473      0        6      0.988077  \n",
       "4      1328    499      0        6      0.958759  \n",
       "...     ...    ...    ...      ...           ...  \n",
       "3313    321    551      0        7      0.997142  \n",
       "3314   1617    464      0        7      0.996551  \n",
       "3315   1618    464      0        7      0.995811  \n",
       "3316   1617    464      0        7      0.994871  \n",
       "3317    139    333      0        9      0.984561  \n",
       "\n",
       "[3318 rows x 9 columns]"
      ]
     },
     "execution_count": 3,
     "metadata": {},
     "output_type": "execute_result"
    }
   ],
   "source": [
    "labels"
   ]
  },
  {
   "cell_type": "code",
   "execution_count": 3,
   "metadata": {},
   "outputs": [],
   "source": [
    "#labels_semi_1[\"Class\"] = labels_semi_1[\"semi_v1\"]"
   ]
  },
  {
   "cell_type": "code",
   "execution_count": 4,
   "metadata": {},
   "outputs": [
    {
     "data": {
      "text/html": [
       "<div>\n",
       "<style scoped>\n",
       "    .dataframe tbody tr th:only-of-type {\n",
       "        vertical-align: middle;\n",
       "    }\n",
       "\n",
       "    .dataframe tbody tr th {\n",
       "        vertical-align: top;\n",
       "    }\n",
       "\n",
       "    .dataframe thead th {\n",
       "        text-align: right;\n",
       "    }\n",
       "</style>\n",
       "<table border=\"1\" class=\"dataframe\">\n",
       "  <thead>\n",
       "    <tr style=\"text-align: right;\">\n",
       "      <th></th>\n",
       "      <th>File</th>\n",
       "      <th>Class</th>\n",
       "      <th>min_x</th>\n",
       "      <th>min_y</th>\n",
       "      <th>max_x</th>\n",
       "      <th>max_y</th>\n",
       "      <th>v_cls</th>\n",
       "    </tr>\n",
       "  </thead>\n",
       "  <tbody>\n",
       "    <tr>\n",
       "      <th>0</th>\n",
       "      <td>/data/IEEE_BigData/crop_train/0000001.jpg</td>\n",
       "      <td>11</td>\n",
       "      <td>0.553646</td>\n",
       "      <td>0.532407</td>\n",
       "      <td>0.592187</td>\n",
       "      <td>0.611111</td>\n",
       "      <td>3</td>\n",
       "    </tr>\n",
       "    <tr>\n",
       "      <th>1</th>\n",
       "      <td>/data/IEEE_BigData/crop_train/0000002.jpg</td>\n",
       "      <td>0</td>\n",
       "      <td>0.608333</td>\n",
       "      <td>0.405556</td>\n",
       "      <td>0.769792</td>\n",
       "      <td>0.606481</td>\n",
       "      <td>0</td>\n",
       "    </tr>\n",
       "    <tr>\n",
       "      <th>2</th>\n",
       "      <td>/data/IEEE_BigData/crop_train/0000003.jpg</td>\n",
       "      <td>0</td>\n",
       "      <td>0.600521</td>\n",
       "      <td>0.470370</td>\n",
       "      <td>0.697396</td>\n",
       "      <td>0.602778</td>\n",
       "      <td>0</td>\n",
       "    </tr>\n",
       "    <tr>\n",
       "      <th>3</th>\n",
       "      <td>/data/IEEE_BigData/crop_train/0000004.jpg</td>\n",
       "      <td>0</td>\n",
       "      <td>0.327604</td>\n",
       "      <td>0.454630</td>\n",
       "      <td>0.411979</td>\n",
       "      <td>0.586111</td>\n",
       "      <td>0</td>\n",
       "    </tr>\n",
       "    <tr>\n",
       "      <th>4</th>\n",
       "      <td>/data/IEEE_BigData/crop_train/0000005.jpg</td>\n",
       "      <td>0</td>\n",
       "      <td>0.678646</td>\n",
       "      <td>0.347222</td>\n",
       "      <td>0.999479</td>\n",
       "      <td>1.000000</td>\n",
       "      <td>0</td>\n",
       "    </tr>\n",
       "    <tr>\n",
       "      <th>...</th>\n",
       "      <td>...</td>\n",
       "      <td>...</td>\n",
       "      <td>...</td>\n",
       "      <td>...</td>\n",
       "      <td>...</td>\n",
       "      <td>...</td>\n",
       "      <td>...</td>\n",
       "    </tr>\n",
       "    <tr>\n",
       "      <th>209623</th>\n",
       "      <td>/data/IEEE_BigData/cls_crop/gan_result/0104810...</td>\n",
       "      <td>2</td>\n",
       "      <td>0.512500</td>\n",
       "      <td>0.508333</td>\n",
       "      <td>0.538542</td>\n",
       "      <td>0.538889</td>\n",
       "      <td>0</td>\n",
       "    </tr>\n",
       "    <tr>\n",
       "      <th>209624</th>\n",
       "      <td>/data/IEEE_BigData/cls_crop/gan_result/0104811...</td>\n",
       "      <td>2</td>\n",
       "      <td>0.512500</td>\n",
       "      <td>0.508333</td>\n",
       "      <td>0.538542</td>\n",
       "      <td>0.538889</td>\n",
       "      <td>0</td>\n",
       "    </tr>\n",
       "    <tr>\n",
       "      <th>209625</th>\n",
       "      <td>/data/IEEE_BigData/cls_crop/gan_result/0104812...</td>\n",
       "      <td>2</td>\n",
       "      <td>0.512500</td>\n",
       "      <td>0.508333</td>\n",
       "      <td>0.538542</td>\n",
       "      <td>0.538889</td>\n",
       "      <td>0</td>\n",
       "    </tr>\n",
       "    <tr>\n",
       "      <th>209626</th>\n",
       "      <td>/data/IEEE_BigData/cls_crop/gan_result/0104813...</td>\n",
       "      <td>2</td>\n",
       "      <td>0.512500</td>\n",
       "      <td>0.508333</td>\n",
       "      <td>0.538542</td>\n",
       "      <td>0.538889</td>\n",
       "      <td>0</td>\n",
       "    </tr>\n",
       "    <tr>\n",
       "      <th>209627</th>\n",
       "      <td>/data/IEEE_BigData/cls_crop/gan_result/0104814...</td>\n",
       "      <td>2</td>\n",
       "      <td>0.512500</td>\n",
       "      <td>0.508333</td>\n",
       "      <td>0.538542</td>\n",
       "      <td>0.538889</td>\n",
       "      <td>0</td>\n",
       "    </tr>\n",
       "  </tbody>\n",
       "</table>\n",
       "<p>209628 rows × 7 columns</p>\n",
       "</div>"
      ],
      "text/plain": [
       "                                                     File  Class     min_x  \\\n",
       "0               /data/IEEE_BigData/crop_train/0000001.jpg     11  0.553646   \n",
       "1               /data/IEEE_BigData/crop_train/0000002.jpg      0  0.608333   \n",
       "2               /data/IEEE_BigData/crop_train/0000003.jpg      0  0.600521   \n",
       "3               /data/IEEE_BigData/crop_train/0000004.jpg      0  0.327604   \n",
       "4               /data/IEEE_BigData/crop_train/0000005.jpg      0  0.678646   \n",
       "...                                                   ...    ...       ...   \n",
       "209623  /data/IEEE_BigData/cls_crop/gan_result/0104810...      2  0.512500   \n",
       "209624  /data/IEEE_BigData/cls_crop/gan_result/0104811...      2  0.512500   \n",
       "209625  /data/IEEE_BigData/cls_crop/gan_result/0104812...      2  0.512500   \n",
       "209626  /data/IEEE_BigData/cls_crop/gan_result/0104813...      2  0.512500   \n",
       "209627  /data/IEEE_BigData/cls_crop/gan_result/0104814...      2  0.512500   \n",
       "\n",
       "           min_y     max_x     max_y  v_cls  \n",
       "0       0.532407  0.592187  0.611111      3  \n",
       "1       0.405556  0.769792  0.606481      0  \n",
       "2       0.470370  0.697396  0.602778      0  \n",
       "3       0.454630  0.411979  0.586111      0  \n",
       "4       0.347222  0.999479  1.000000      0  \n",
       "...          ...       ...       ...    ...  \n",
       "209623  0.508333  0.538542  0.538889      0  \n",
       "209624  0.508333  0.538542  0.538889      0  \n",
       "209625  0.508333  0.538542  0.538889      0  \n",
       "209626  0.508333  0.538542  0.538889      0  \n",
       "209627  0.508333  0.538542  0.538889      0  \n",
       "\n",
       "[209628 rows x 7 columns]"
      ]
     },
     "execution_count": 4,
     "metadata": {},
     "output_type": "execute_result"
    }
   ],
   "source": [
    "labels"
   ]
  },
  {
   "cell_type": "code",
   "execution_count": 5,
   "metadata": {},
   "outputs": [],
   "source": [
    "decoder = {\"0\" : \"car_back\",\n",
    "           \"1\" : \"car_side\",\n",
    "           \"2\" : \"car_front\",\n",
    "           \"3\" : \"truck_back\",\n",
    "           \"4\" : \"truck_side\",\n",
    "           \"5\" : \"truck_front\",\n",
    "           \"6\" : \"motorcycle_back\",\n",
    "           \"7\" : \"motorcycle_side\",\n",
    "           \"8\" : \"motorcycle_front\",\n",
    "           \"9\" : \"bicycle_back\",\n",
    "           \"10\" : \"bicycle_side\",\n",
    "           \"11\" : \"bicycle_front\"}"
   ]
  },
  {
   "cell_type": "markdown",
   "metadata": {},
   "source": [
    "# Total"
   ]
  },
  {
   "cell_type": "code",
   "execution_count": 6,
   "metadata": {},
   "outputs": [],
   "source": [
    "class TotalDataset(Dataset):\n",
    "    def __init__(self, labels=None, transformer=None, mode=\"train\"):\n",
    "        self.transformer = transformer\n",
    "        self.mode = mode\n",
    "        if self.mode == \"train\" :\n",
    "            self.labels = labels\n",
    "        elif self.mode == \"val\" :\n",
    "            self.labels = labels\n",
    "            \n",
    "    def __len__(self):\n",
    "        return self.labels.shape[0]\n",
    "    \n",
    "    def __getitem__(self, i):\n",
    "        img = cv2.imread(self.labels[\"File\"].iloc[i]).astype(np.float32)/255\n",
    "        img = cv2.resize(img, dsize=(384,384))\n",
    "        if self.mode == \"train\":\n",
    "            if self.transformer != None:\n",
    "                img = self.transformer(image=img)\n",
    "                img = np.transpose(img[\"image\"], (2,0,1))\n",
    "            else:\n",
    "                img = np.transpose(img, (2,0,1))\n",
    "            return {\n",
    "                \"img\" : torch.tensor(img, dtype=torch.float32),\n",
    "                \"label\" : torch.tensor(self.labels[\"Class\"].iloc[i], dtype=torch.long)\n",
    "            }\n",
    "        elif self.mode == \"val\":\n",
    "            img = np.transpose(img, (2,0,1))\n",
    "            return {\n",
    "                \"img\" : torch.tensor(img, dtype=torch.float32),\n",
    "                \"label\" : torch.tensor(self.labels[\"Class\"].iloc[i], dtype=torch.long)\n",
    "            }\n",
    "        \n",
    "        else:\n",
    "            img = np.transpose(img, (2,0,1))\n",
    "            return {\n",
    "                \"img\" : torch.tensor(img, dtype=torch.float32)\n",
    "            }"
   ]
  },
  {
   "cell_type": "code",
   "execution_count": 7,
   "metadata": {},
   "outputs": [],
   "source": [
    "def train_step(batch_item, epoch, batch, training):\n",
    "    img = batch_item['img'].to(device)\n",
    "    label = batch_item['label'].to(device)\n",
    "    if training is True:\n",
    "        model.train()\n",
    "        optimizer.zero_grad()\n",
    "        with torch.cuda.amp.autocast():\n",
    "            output = model(img)\n",
    "            loss = criterion(output, label)\n",
    "        loss.backward()\n",
    "        optimizer.step()\n",
    "        pred = torch.argmax(output, axis=1)\n",
    "        acc = torch.sum(pred == label)\n",
    "        return loss, acc\n",
    "    else:\n",
    "        model.eval()\n",
    "        with torch.no_grad():\n",
    "            output = model(img)\n",
    "            loss = criterion(output, label)\n",
    "            pred = torch.argmax(output, axis=1)\n",
    "            acc = torch.sum(pred == label)\n",
    "            \n",
    "        return loss, acc"
   ]
  },
  {
   "cell_type": "code",
   "execution_count": 8,
   "metadata": {},
   "outputs": [],
   "source": [
    "class LabelSmoothingLoss(nn.Module):\n",
    "    \"\"\"\n",
    "    With label smoothing,\n",
    "    KL-divergence between q_{smoothed ground truth prob.}(w)\n",
    "    and p_{prob. computed by model}(w) is minimized.\n",
    "    \"\"\"\n",
    "    def __init__(self, label_smoothing, tgt_vocab_size, ignore_index=-100):\n",
    "        assert 0.0 < label_smoothing <= 1.0\n",
    "        self.ignore_index = ignore_index\n",
    "        super(LabelSmoothingLoss, self).__init__()\n",
    "\n",
    "        smoothing_value = label_smoothing / (tgt_vocab_size - 2)\n",
    "        one_hot = torch.full((tgt_vocab_size,), smoothing_value)\n",
    "        one_hot[self.ignore_index] = 0\n",
    "        self.register_buffer('one_hot', one_hot.unsqueeze(0))\n",
    "\n",
    "        self.confidence = 1.0 - label_smoothing\n",
    "\n",
    "    def forward(self, output, target):\n",
    "        \"\"\"\n",
    "        output (FloatTensor): batch_size x n_classes\n",
    "        target (LongTensor): batch_size\n",
    "        \"\"\"\n",
    "        model_prob = self.one_hot.repeat(target.size(0), 1)\n",
    "        model_prob.scatter_(1, target.unsqueeze(1), self.confidence)\n",
    "        model_prob.masked_fill_((target == self.ignore_index).unsqueeze(1), 0)\n",
    "\n",
    "        return F.kl_div(output, model_prob, reduction='sum')"
   ]
  },
  {
   "cell_type": "code",
   "execution_count": 9,
   "metadata": {
    "scrolled": false
   },
   "outputs": [
    {
     "name": "stdout",
     "output_type": "stream",
     "text": [
      "Loaded pretrained weights for efficientnet-b7\n"
     ]
    },
    {
     "name": "stderr",
     "output_type": "stream",
     "text": [
      "3494it [1:03:55,  1.10s/it, Epoch=1, Loss=0.303576, Total Loss=0.622655, Total Acc=78.567429]\n",
      "874it [07:25,  1.96it/s, Epoch=1, Val Loss=0.001469, Total Val Loss=0.024365, Total Val Acc=99.191933]\n"
     ]
    },
    {
     "name": "stdout",
     "output_type": "stream",
     "text": [
      "## Model Save\n"
     ]
    },
    {
     "name": "stderr",
     "output_type": "stream",
     "text": [
      "3494it [1:03:51,  1.10s/it, Epoch=2, Loss=0.491104, Total Loss=0.382309, Total Acc=86.520943]\n",
      "874it [07:25,  1.96it/s, Epoch=2, Val Loss=0.005843, Total Val Loss=0.018708, Total Val Acc=99.432686]\n"
     ]
    },
    {
     "name": "stdout",
     "output_type": "stream",
     "text": [
      "## Model Save\n"
     ]
    },
    {
     "name": "stderr",
     "output_type": "stream",
     "text": [
      "3494it [1:03:51,  1.10s/it, Epoch=3, Loss=0.281435, Total Loss=0.348625, Total Acc=87.678879]\n",
      "874it [07:25,  1.96it/s, Epoch=3, Val Loss=0.002398, Total Val Loss=0.012931, Total Val Acc=99.563789]\n"
     ]
    },
    {
     "name": "stdout",
     "output_type": "stream",
     "text": [
      "## Model Save\n"
     ]
    },
    {
     "name": "stderr",
     "output_type": "stream",
     "text": [
      "3494it [1:03:51,  1.10s/it, Epoch=4, Loss=0.370749, Total Loss=0.321048, Total Acc=88.738434]\n",
      "874it [07:27,  1.95it/s, Epoch=4, Val Loss=0.004092, Total Val Loss=0.011132, Total Val Acc=99.651985]\n"
     ]
    },
    {
     "name": "stdout",
     "output_type": "stream",
     "text": [
      "## Model Save\n"
     ]
    },
    {
     "name": "stderr",
     "output_type": "stream",
     "text": [
      "3494it [1:03:57,  1.10s/it, Epoch=5, Loss=0.308893, Total Loss=0.298246, Total Acc=89.651314]\n",
      "874it [07:25,  1.96it/s, Epoch=5, Val Loss=0.003679, Total Val Loss=0.011803, Total Val Acc=99.632919]\n",
      "3494it [1:03:53,  1.10s/it, Epoch=6, Loss=0.779236, Total Loss=0.287179, Total Acc=90.048424]\n",
      "874it [07:27,  1.96it/s, Epoch=6, Val Loss=0.001578, Total Val Loss=0.010528, Total Val Acc=99.632919]\n"
     ]
    },
    {
     "name": "stdout",
     "output_type": "stream",
     "text": [
      "## Model Save\n"
     ]
    },
    {
     "name": "stderr",
     "output_type": "stream",
     "text": [
      "3494it [1:03:56,  1.10s/it, Epoch=7, Loss=0.284696, Total Loss=0.279803, Total Acc=90.344162]\n",
      "874it [07:27,  1.95it/s, Epoch=7, Val Loss=0.001116, Total Val Loss=0.008299, Total Val Acc=99.697273]\n"
     ]
    },
    {
     "name": "stdout",
     "output_type": "stream",
     "text": [
      "## Model Save\n"
     ]
    },
    {
     "name": "stderr",
     "output_type": "stream",
     "text": [
      "3494it [1:03:51,  1.10s/it, Epoch=8, Loss=0.265021, Total Loss=0.270859, Total Acc=90.732925]\n",
      "874it [07:24,  1.97it/s, Epoch=8, Val Loss=0.001091, Total Val Loss=0.011326, Total Val Acc=99.594780]\n",
      "3494it [1:03:48,  1.10s/it, Epoch=9, Loss=0.292109, Total Loss=0.262798, Total Acc=90.941612]\n",
      "874it [07:27,  1.96it/s, Epoch=9, Val Loss=0.000535, Total Val Loss=0.007086, Total Val Acc=99.725876]\n"
     ]
    },
    {
     "name": "stdout",
     "output_type": "stream",
     "text": [
      "## Model Save\n"
     ]
    },
    {
     "name": "stderr",
     "output_type": "stream",
     "text": [
      "3494it [1:03:54,  1.10s/it, Epoch=10, Loss=0.132950, Total Loss=0.258493, Total Acc=91.173561]\n",
      "874it [07:25,  1.96it/s, Epoch=10, Val Loss=0.002799, Total Val Loss=0.009113, Total Val Acc=99.675819]\n",
      "3494it [1:03:46,  1.10s/it, Epoch=11, Loss=0.334254, Total Loss=0.255467, Total Acc=91.279099]\n",
      "874it [07:24,  1.97it/s, Epoch=11, Val Loss=0.000610, Total Val Loss=0.007159, Total Val Acc=99.713966]\n",
      "3494it [1:03:48,  1.10s/it, Epoch=12, Loss=0.517005, Total Loss=0.255650, Total Acc=91.206352]\n",
      "874it [07:27,  1.95it/s, Epoch=12, Val Loss=0.000924, Total Val Loss=0.013169, Total Val Acc=99.544724]\n",
      "3494it [1:03:47,  1.10s/it, Epoch=13, Loss=0.307827, Total Loss=0.251965, Total Acc=91.383446]\n",
      "874it [07:25,  1.96it/s, Epoch=13, Val Loss=0.000490, Total Val Loss=0.010352, Total Val Acc=99.606697]\n",
      "3494it [1:03:51,  1.10s/it, Epoch=14, Loss=0.191862, Total Loss=0.247634, Total Acc=91.504486]\n",
      "874it [07:27,  1.95it/s, Epoch=14, Val Loss=0.000353, Total Val Loss=0.008003, Total Val Acc=99.678207]\n",
      "3494it [1:03:49,  1.10s/it, Epoch=15, Loss=0.274534, Total Loss=0.246554, Total Acc=91.561134]\n",
      "874it [07:25,  1.96it/s, Epoch=15, Val Loss=0.000162, Total Val Loss=0.007963, Total Val Acc=99.666283]"
     ]
    },
    {
     "name": "stdout",
     "output_type": "stream",
     "text": [
      "Epoch    15: reducing learning rate of group 0 to 1.0000e-05.\n"
     ]
    },
    {
     "name": "stderr",
     "output_type": "stream",
     "text": [
      "\n",
      "3494it [1:03:53,  1.10s/it, Epoch=16, Loss=0.121551, Total Loss=0.207712, Total Acc=92.884827]\n",
      "874it [07:28,  1.95it/s, Epoch=16, Val Loss=0.000164, Total Val Loss=0.004140, Total Val Acc=99.809303]\n"
     ]
    },
    {
     "name": "stdout",
     "output_type": "stream",
     "text": [
      "## Model Save\n"
     ]
    },
    {
     "name": "stderr",
     "output_type": "stream",
     "text": [
      "3494it [1:03:47,  1.10s/it, Epoch=17, Loss=0.084718, Total Loss=0.196882, Total Acc=93.354088]\n",
      "874it [07:25,  1.96it/s, Epoch=17, Val Loss=0.000169, Total Val Loss=0.004104, Total Val Acc=99.799774]\n"
     ]
    },
    {
     "name": "stdout",
     "output_type": "stream",
     "text": [
      "## Model Save\n"
     ]
    },
    {
     "name": "stderr",
     "output_type": "stream",
     "text": [
      "3494it [1:03:44,  1.09s/it, Epoch=18, Loss=0.289582, Total Loss=0.189402, Total Acc=93.540123]\n",
      "874it [07:25,  1.96it/s, Epoch=18, Val Loss=0.000124, Total Val Loss=0.003972, Total Val Acc=99.806923]\n"
     ]
    },
    {
     "name": "stdout",
     "output_type": "stream",
     "text": [
      "## Model Save\n"
     ]
    },
    {
     "name": "stderr",
     "output_type": "stream",
     "text": [
      "3494it [1:03:54,  1.10s/it, Epoch=19, Loss=0.145098, Total Loss=0.187736, Total Acc=93.603325]\n",
      "874it [07:28,  1.95it/s, Epoch=19, Val Loss=0.000120, Total Val Loss=0.003816, Total Val Acc=99.811691]\n"
     ]
    },
    {
     "name": "stdout",
     "output_type": "stream",
     "text": [
      "## Model Save\n"
     ]
    },
    {
     "name": "stderr",
     "output_type": "stream",
     "text": [
      "3494it [1:04:03,  1.10s/it, Epoch=20, Loss=0.120469, Total Loss=0.185656, Total Acc=93.687996]\n",
      "874it [07:27,  1.95it/s, Epoch=20, Val Loss=0.000129, Total Val Loss=0.003838, Total Val Acc=99.809303]\n",
      "3494it [1:03:46,  1.10s/it, Epoch=21, Loss=0.230190, Total Loss=0.182922, Total Acc=93.781006]\n",
      "874it [07:26,  1.96it/s, Epoch=21, Val Loss=0.000130, Total Val Loss=0.003774, Total Val Acc=99.811691]\n"
     ]
    },
    {
     "name": "stdout",
     "output_type": "stream",
     "text": [
      "## Model Save\n"
     ]
    },
    {
     "name": "stderr",
     "output_type": "stream",
     "text": [
      "3494it [1:03:50,  1.10s/it, Epoch=22, Loss=0.325422, Total Loss=0.179447, Total Acc=93.901451]\n",
      "874it [07:25,  1.96it/s, Epoch=22, Val Loss=0.000097, Total Val Loss=0.003390, Total Val Acc=99.816460]\n"
     ]
    },
    {
     "name": "stdout",
     "output_type": "stream",
     "text": [
      "## Model Save\n"
     ]
    },
    {
     "name": "stderr",
     "output_type": "stream",
     "text": [
      "3494it [1:04:06,  1.10s/it, Epoch=23, Loss=0.166500, Total Loss=0.178787, Total Acc=93.921730]\n",
      "874it [07:31,  1.94it/s, Epoch=23, Val Loss=0.000082, Total Val Loss=0.003346, Total Val Acc=99.830765]\n"
     ]
    },
    {
     "name": "stdout",
     "output_type": "stream",
     "text": [
      "## Model Save\n"
     ]
    },
    {
     "name": "stderr",
     "output_type": "stream",
     "text": [
      "3494it [1:04:02,  1.10s/it, Epoch=24, Loss=0.063551, Total Loss=0.178029, Total Acc=93.916359]\n"
     ]
    },
    {
     "ename": "OSError",
     "evalue": "[Errno 12] Cannot allocate memory",
     "output_type": "error",
     "traceback": [
      "\u001b[0;31m---------------------------------------------------------------------------\u001b[0m",
      "\u001b[0;31mOSError\u001b[0m                                   Traceback (most recent call last)",
      "\u001b[0;32m<ipython-input-9-8448b5e95822>\u001b[0m in \u001b[0;36m<module>\u001b[0;34m\u001b[0m\n\u001b[1;32m     77\u001b[0m         \u001b[0mloss_plot\u001b[0m\u001b[0;34m.\u001b[0m\u001b[0mappend\u001b[0m\u001b[0;34m(\u001b[0m\u001b[0mtotal_loss\u001b[0m\u001b[0;34m/\u001b[0m\u001b[0;34m(\u001b[0m\u001b[0mbatch\u001b[0m\u001b[0;34m+\u001b[0m\u001b[0;36m1\u001b[0m\u001b[0;34m)\u001b[0m\u001b[0;34m)\u001b[0m\u001b[0;34m\u001b[0m\u001b[0;34m\u001b[0m\u001b[0m\n\u001b[1;32m     78\u001b[0m \u001b[0;34m\u001b[0m\u001b[0m\n\u001b[0;32m---> 79\u001b[0;31m         \u001b[0mtqdm_dataset\u001b[0m \u001b[0;34m=\u001b[0m \u001b[0mtqdm\u001b[0m\u001b[0;34m(\u001b[0m\u001b[0menumerate\u001b[0m\u001b[0;34m(\u001b[0m\u001b[0mval_dataloader\u001b[0m\u001b[0;34m)\u001b[0m\u001b[0;34m)\u001b[0m\u001b[0;34m\u001b[0m\u001b[0;34m\u001b[0m\u001b[0m\n\u001b[0m\u001b[1;32m     80\u001b[0m         \u001b[0mtraining\u001b[0m \u001b[0;34m=\u001b[0m \u001b[0;32mFalse\u001b[0m\u001b[0;34m\u001b[0m\u001b[0;34m\u001b[0m\u001b[0m\n\u001b[1;32m     81\u001b[0m         \u001b[0;32mfor\u001b[0m \u001b[0mbatch\u001b[0m\u001b[0;34m,\u001b[0m \u001b[0mbatch_item\u001b[0m \u001b[0;32min\u001b[0m \u001b[0mtqdm_dataset\u001b[0m\u001b[0;34m:\u001b[0m\u001b[0;34m\u001b[0m\u001b[0;34m\u001b[0m\u001b[0m\n",
      "\u001b[0;32m/opt/conda/lib/python3.6/site-packages/torch/utils/data/dataloader.py\u001b[0m in \u001b[0;36m__iter__\u001b[0;34m(self)\u001b[0m\n\u001b[1;32m    357\u001b[0m             \u001b[0;32mreturn\u001b[0m \u001b[0mself\u001b[0m\u001b[0;34m.\u001b[0m\u001b[0m_iterator\u001b[0m\u001b[0;34m\u001b[0m\u001b[0;34m\u001b[0m\u001b[0m\n\u001b[1;32m    358\u001b[0m         \u001b[0;32melse\u001b[0m\u001b[0;34m:\u001b[0m\u001b[0;34m\u001b[0m\u001b[0;34m\u001b[0m\u001b[0m\n\u001b[0;32m--> 359\u001b[0;31m             \u001b[0;32mreturn\u001b[0m \u001b[0mself\u001b[0m\u001b[0;34m.\u001b[0m\u001b[0m_get_iterator\u001b[0m\u001b[0;34m(\u001b[0m\u001b[0;34m)\u001b[0m\u001b[0;34m\u001b[0m\u001b[0;34m\u001b[0m\u001b[0m\n\u001b[0m\u001b[1;32m    360\u001b[0m \u001b[0;34m\u001b[0m\u001b[0m\n\u001b[1;32m    361\u001b[0m     \u001b[0;34m@\u001b[0m\u001b[0mproperty\u001b[0m\u001b[0;34m\u001b[0m\u001b[0;34m\u001b[0m\u001b[0m\n",
      "\u001b[0;32m/opt/conda/lib/python3.6/site-packages/torch/utils/data/dataloader.py\u001b[0m in \u001b[0;36m_get_iterator\u001b[0;34m(self)\u001b[0m\n\u001b[1;32m    303\u001b[0m         \u001b[0;32melse\u001b[0m\u001b[0;34m:\u001b[0m\u001b[0;34m\u001b[0m\u001b[0;34m\u001b[0m\u001b[0m\n\u001b[1;32m    304\u001b[0m             \u001b[0mself\u001b[0m\u001b[0;34m.\u001b[0m\u001b[0mcheck_worker_number_rationality\u001b[0m\u001b[0;34m(\u001b[0m\u001b[0;34m)\u001b[0m\u001b[0;34m\u001b[0m\u001b[0;34m\u001b[0m\u001b[0m\n\u001b[0;32m--> 305\u001b[0;31m             \u001b[0;32mreturn\u001b[0m \u001b[0m_MultiProcessingDataLoaderIter\u001b[0m\u001b[0;34m(\u001b[0m\u001b[0mself\u001b[0m\u001b[0;34m)\u001b[0m\u001b[0;34m\u001b[0m\u001b[0;34m\u001b[0m\u001b[0m\n\u001b[0m\u001b[1;32m    306\u001b[0m \u001b[0;34m\u001b[0m\u001b[0m\n\u001b[1;32m    307\u001b[0m     \u001b[0;34m@\u001b[0m\u001b[0mproperty\u001b[0m\u001b[0;34m\u001b[0m\u001b[0;34m\u001b[0m\u001b[0m\n",
      "\u001b[0;32m/opt/conda/lib/python3.6/site-packages/torch/utils/data/dataloader.py\u001b[0m in \u001b[0;36m__init__\u001b[0;34m(self, loader)\u001b[0m\n\u001b[1;32m    916\u001b[0m             \u001b[0;31m#     before it starts, and __del__ tries to join but will get:\u001b[0m\u001b[0;34m\u001b[0m\u001b[0;34m\u001b[0m\u001b[0;34m\u001b[0m\u001b[0m\n\u001b[1;32m    917\u001b[0m             \u001b[0;31m#     AssertionError: can only join a started process.\u001b[0m\u001b[0;34m\u001b[0m\u001b[0;34m\u001b[0m\u001b[0;34m\u001b[0m\u001b[0m\n\u001b[0;32m--> 918\u001b[0;31m             \u001b[0mw\u001b[0m\u001b[0;34m.\u001b[0m\u001b[0mstart\u001b[0m\u001b[0;34m(\u001b[0m\u001b[0;34m)\u001b[0m\u001b[0;34m\u001b[0m\u001b[0;34m\u001b[0m\u001b[0m\n\u001b[0m\u001b[1;32m    919\u001b[0m             \u001b[0mself\u001b[0m\u001b[0;34m.\u001b[0m\u001b[0m_index_queues\u001b[0m\u001b[0;34m.\u001b[0m\u001b[0mappend\u001b[0m\u001b[0;34m(\u001b[0m\u001b[0mindex_queue\u001b[0m\u001b[0;34m)\u001b[0m\u001b[0;34m\u001b[0m\u001b[0;34m\u001b[0m\u001b[0m\n\u001b[1;32m    920\u001b[0m             \u001b[0mself\u001b[0m\u001b[0;34m.\u001b[0m\u001b[0m_workers\u001b[0m\u001b[0;34m.\u001b[0m\u001b[0mappend\u001b[0m\u001b[0;34m(\u001b[0m\u001b[0mw\u001b[0m\u001b[0;34m)\u001b[0m\u001b[0;34m\u001b[0m\u001b[0;34m\u001b[0m\u001b[0m\n",
      "\u001b[0;32m/opt/conda/lib/python3.6/multiprocessing/process.py\u001b[0m in \u001b[0;36mstart\u001b[0;34m(self)\u001b[0m\n\u001b[1;32m    103\u001b[0m                \u001b[0;34m'daemonic processes are not allowed to have children'\u001b[0m\u001b[0;34m\u001b[0m\u001b[0;34m\u001b[0m\u001b[0m\n\u001b[1;32m    104\u001b[0m         \u001b[0m_cleanup\u001b[0m\u001b[0;34m(\u001b[0m\u001b[0;34m)\u001b[0m\u001b[0;34m\u001b[0m\u001b[0;34m\u001b[0m\u001b[0m\n\u001b[0;32m--> 105\u001b[0;31m         \u001b[0mself\u001b[0m\u001b[0;34m.\u001b[0m\u001b[0m_popen\u001b[0m \u001b[0;34m=\u001b[0m \u001b[0mself\u001b[0m\u001b[0;34m.\u001b[0m\u001b[0m_Popen\u001b[0m\u001b[0;34m(\u001b[0m\u001b[0mself\u001b[0m\u001b[0;34m)\u001b[0m\u001b[0;34m\u001b[0m\u001b[0;34m\u001b[0m\u001b[0m\n\u001b[0m\u001b[1;32m    106\u001b[0m         \u001b[0mself\u001b[0m\u001b[0;34m.\u001b[0m\u001b[0m_sentinel\u001b[0m \u001b[0;34m=\u001b[0m \u001b[0mself\u001b[0m\u001b[0;34m.\u001b[0m\u001b[0m_popen\u001b[0m\u001b[0;34m.\u001b[0m\u001b[0msentinel\u001b[0m\u001b[0;34m\u001b[0m\u001b[0;34m\u001b[0m\u001b[0m\n\u001b[1;32m    107\u001b[0m         \u001b[0;31m# Avoid a refcycle if the target function holds an indirect\u001b[0m\u001b[0;34m\u001b[0m\u001b[0;34m\u001b[0m\u001b[0;34m\u001b[0m\u001b[0m\n",
      "\u001b[0;32m/opt/conda/lib/python3.6/multiprocessing/context.py\u001b[0m in \u001b[0;36m_Popen\u001b[0;34m(process_obj)\u001b[0m\n\u001b[1;32m    221\u001b[0m     \u001b[0;34m@\u001b[0m\u001b[0mstaticmethod\u001b[0m\u001b[0;34m\u001b[0m\u001b[0;34m\u001b[0m\u001b[0m\n\u001b[1;32m    222\u001b[0m     \u001b[0;32mdef\u001b[0m \u001b[0m_Popen\u001b[0m\u001b[0;34m(\u001b[0m\u001b[0mprocess_obj\u001b[0m\u001b[0;34m)\u001b[0m\u001b[0;34m:\u001b[0m\u001b[0;34m\u001b[0m\u001b[0;34m\u001b[0m\u001b[0m\n\u001b[0;32m--> 223\u001b[0;31m         \u001b[0;32mreturn\u001b[0m \u001b[0m_default_context\u001b[0m\u001b[0;34m.\u001b[0m\u001b[0mget_context\u001b[0m\u001b[0;34m(\u001b[0m\u001b[0;34m)\u001b[0m\u001b[0;34m.\u001b[0m\u001b[0mProcess\u001b[0m\u001b[0;34m.\u001b[0m\u001b[0m_Popen\u001b[0m\u001b[0;34m(\u001b[0m\u001b[0mprocess_obj\u001b[0m\u001b[0;34m)\u001b[0m\u001b[0;34m\u001b[0m\u001b[0;34m\u001b[0m\u001b[0m\n\u001b[0m\u001b[1;32m    224\u001b[0m \u001b[0;34m\u001b[0m\u001b[0m\n\u001b[1;32m    225\u001b[0m \u001b[0;32mclass\u001b[0m \u001b[0mDefaultContext\u001b[0m\u001b[0;34m(\u001b[0m\u001b[0mBaseContext\u001b[0m\u001b[0;34m)\u001b[0m\u001b[0;34m:\u001b[0m\u001b[0;34m\u001b[0m\u001b[0;34m\u001b[0m\u001b[0m\n",
      "\u001b[0;32m/opt/conda/lib/python3.6/multiprocessing/context.py\u001b[0m in \u001b[0;36m_Popen\u001b[0;34m(process_obj)\u001b[0m\n\u001b[1;32m    275\u001b[0m         \u001b[0;32mdef\u001b[0m \u001b[0m_Popen\u001b[0m\u001b[0;34m(\u001b[0m\u001b[0mprocess_obj\u001b[0m\u001b[0;34m)\u001b[0m\u001b[0;34m:\u001b[0m\u001b[0;34m\u001b[0m\u001b[0;34m\u001b[0m\u001b[0m\n\u001b[1;32m    276\u001b[0m             \u001b[0;32mfrom\u001b[0m \u001b[0;34m.\u001b[0m\u001b[0mpopen_fork\u001b[0m \u001b[0;32mimport\u001b[0m \u001b[0mPopen\u001b[0m\u001b[0;34m\u001b[0m\u001b[0;34m\u001b[0m\u001b[0m\n\u001b[0;32m--> 277\u001b[0;31m             \u001b[0;32mreturn\u001b[0m \u001b[0mPopen\u001b[0m\u001b[0;34m(\u001b[0m\u001b[0mprocess_obj\u001b[0m\u001b[0;34m)\u001b[0m\u001b[0;34m\u001b[0m\u001b[0;34m\u001b[0m\u001b[0m\n\u001b[0m\u001b[1;32m    278\u001b[0m \u001b[0;34m\u001b[0m\u001b[0m\n\u001b[1;32m    279\u001b[0m     \u001b[0;32mclass\u001b[0m \u001b[0mSpawnProcess\u001b[0m\u001b[0;34m(\u001b[0m\u001b[0mprocess\u001b[0m\u001b[0;34m.\u001b[0m\u001b[0mBaseProcess\u001b[0m\u001b[0;34m)\u001b[0m\u001b[0;34m:\u001b[0m\u001b[0;34m\u001b[0m\u001b[0;34m\u001b[0m\u001b[0m\n",
      "\u001b[0;32m/opt/conda/lib/python3.6/multiprocessing/popen_fork.py\u001b[0m in \u001b[0;36m__init__\u001b[0;34m(self, process_obj)\u001b[0m\n\u001b[1;32m     17\u001b[0m         \u001b[0mutil\u001b[0m\u001b[0;34m.\u001b[0m\u001b[0m_flush_std_streams\u001b[0m\u001b[0;34m(\u001b[0m\u001b[0;34m)\u001b[0m\u001b[0;34m\u001b[0m\u001b[0;34m\u001b[0m\u001b[0m\n\u001b[1;32m     18\u001b[0m         \u001b[0mself\u001b[0m\u001b[0;34m.\u001b[0m\u001b[0mreturncode\u001b[0m \u001b[0;34m=\u001b[0m \u001b[0;32mNone\u001b[0m\u001b[0;34m\u001b[0m\u001b[0;34m\u001b[0m\u001b[0m\n\u001b[0;32m---> 19\u001b[0;31m         \u001b[0mself\u001b[0m\u001b[0;34m.\u001b[0m\u001b[0m_launch\u001b[0m\u001b[0;34m(\u001b[0m\u001b[0mprocess_obj\u001b[0m\u001b[0;34m)\u001b[0m\u001b[0;34m\u001b[0m\u001b[0;34m\u001b[0m\u001b[0m\n\u001b[0m\u001b[1;32m     20\u001b[0m \u001b[0;34m\u001b[0m\u001b[0m\n\u001b[1;32m     21\u001b[0m     \u001b[0;32mdef\u001b[0m \u001b[0mduplicate_for_child\u001b[0m\u001b[0;34m(\u001b[0m\u001b[0mself\u001b[0m\u001b[0;34m,\u001b[0m \u001b[0mfd\u001b[0m\u001b[0;34m)\u001b[0m\u001b[0;34m:\u001b[0m\u001b[0;34m\u001b[0m\u001b[0;34m\u001b[0m\u001b[0m\n",
      "\u001b[0;32m/opt/conda/lib/python3.6/multiprocessing/popen_fork.py\u001b[0m in \u001b[0;36m_launch\u001b[0;34m(self, process_obj)\u001b[0m\n\u001b[1;32m     64\u001b[0m         \u001b[0mcode\u001b[0m \u001b[0;34m=\u001b[0m \u001b[0;36m1\u001b[0m\u001b[0;34m\u001b[0m\u001b[0;34m\u001b[0m\u001b[0m\n\u001b[1;32m     65\u001b[0m         \u001b[0mparent_r\u001b[0m\u001b[0;34m,\u001b[0m \u001b[0mchild_w\u001b[0m \u001b[0;34m=\u001b[0m \u001b[0mos\u001b[0m\u001b[0;34m.\u001b[0m\u001b[0mpipe\u001b[0m\u001b[0;34m(\u001b[0m\u001b[0;34m)\u001b[0m\u001b[0;34m\u001b[0m\u001b[0;34m\u001b[0m\u001b[0m\n\u001b[0;32m---> 66\u001b[0;31m         \u001b[0mself\u001b[0m\u001b[0;34m.\u001b[0m\u001b[0mpid\u001b[0m \u001b[0;34m=\u001b[0m \u001b[0mos\u001b[0m\u001b[0;34m.\u001b[0m\u001b[0mfork\u001b[0m\u001b[0;34m(\u001b[0m\u001b[0;34m)\u001b[0m\u001b[0;34m\u001b[0m\u001b[0;34m\u001b[0m\u001b[0m\n\u001b[0m\u001b[1;32m     67\u001b[0m         \u001b[0;32mif\u001b[0m \u001b[0mself\u001b[0m\u001b[0;34m.\u001b[0m\u001b[0mpid\u001b[0m \u001b[0;34m==\u001b[0m \u001b[0;36m0\u001b[0m\u001b[0;34m:\u001b[0m\u001b[0;34m\u001b[0m\u001b[0;34m\u001b[0m\u001b[0m\n\u001b[1;32m     68\u001b[0m             \u001b[0;32mtry\u001b[0m\u001b[0;34m:\u001b[0m\u001b[0;34m\u001b[0m\u001b[0;34m\u001b[0m\u001b[0m\n",
      "\u001b[0;31mOSError\u001b[0m: [Errno 12] Cannot allocate memory"
     ]
    }
   ],
   "source": [
    "FOLDS = 5\n",
    "skf = StratifiedKFold(n_splits=FOLDS, random_state=42, shuffle=True)\n",
    "\n",
    "device = torch.device(\"cuda:0\")\n",
    "dropout_rate = 0.1\n",
    "class_num = 12\n",
    "learning_rate = 1e-4\n",
    "BATCH_SIZE = 48\n",
    "EPOCHS = 25\n",
    "MODELS = 'efficientnet-b7'\n",
    "#MODELS = 'regnety_040'\n",
    "save_path = f\"./models/Py_{MODELS}_GAN_0922_{EPOCHS}\"\n",
    "\n",
    "folder_train_idx = 0\n",
    "folder_val_idx = 0\n",
    "\n",
    "n=0\n",
    "\n",
    "for train_idx, val_idx in skf.split(range(labels.shape[0]), labels[\"Class\"]):\n",
    "    \n",
    "#    train_idx = np.array(list(train_idx) + list(range(labels.shape[0], labels.shape[0] + labels_semi_1.shape[0])))\n",
    "    \n",
    "#    labels = pd.concat((labels, labels_semi_1))\n",
    "#    labels = labels.reset_index().drop(columns=[\"index\"])\n",
    "    \n",
    "    n = n + 1\n",
    "    \n",
    "    if (n == 1) or (n == 2) or (n == 3) or (n == 4):\n",
    "        continue\n",
    "    \n",
    "    albumentations_transform = A.Compose([\n",
    "        A.HorizontalFlip(p=0.5),\n",
    "        A.VerticalFlip(p=0.5),\n",
    "        A.GaussianBlur(),\n",
    "        A.ShiftScaleRotate(),\n",
    "        A.GaussNoise(),\n",
    "        A.RandomGamma(),\n",
    "    ])\n",
    "    \n",
    "    model = EfficientNet.from_pretrained(MODELS, advprop=True, num_classes=class_num)\n",
    "#    model = torch.load(f\"./models/Py_efficientnet-b7_GAN_30_1.pt\")\n",
    "#    model = timm.create_model(MODELS, pretrained=True, num_classes=class_num)\n",
    "#    model._dropout.p = dropout_rate\n",
    "    model = model.to(device)\n",
    "\n",
    "    optimizer = torch.optim.AdamW(model.parameters(), lr=learning_rate)\n",
    "    scheduler = ReduceLROnPlateau(optimizer, 'min', verbose=True, patience=5)\n",
    "    criterion = nn.CrossEntropyLoss()\n",
    "\n",
    "    train_dataset = TotalDataset(labels.iloc[train_idx], transformer=albumentations_transform)\n",
    "    val_dataset = TotalDataset(labels.iloc[val_idx], transformer=albumentations_transform, mode=\"val\")\n",
    "\n",
    "    train_dataloader = torch.utils.data.DataLoader(train_dataset, batch_size=BATCH_SIZE, num_workers=16, shuffle=True)\n",
    "    val_dataloader = torch.utils.data.DataLoader(val_dataset, batch_size=BATCH_SIZE, num_workers=16, shuffle=False)\n",
    "\n",
    "    sample_batch = next(iter(train_dataloader))\n",
    "\n",
    "    loss_plot, val_loss_plot = [], []\n",
    "\n",
    "    for epoch in range(EPOCHS):\n",
    "        total_loss, total_val_loss = 0, 0\n",
    "        total_acc, total_val_acc = 0, 0\n",
    "\n",
    "        tqdm_dataset = tqdm(enumerate(train_dataloader))\n",
    "        training = True\n",
    "        for batch, batch_item in tqdm_dataset:\n",
    "            batch_loss, batch_acc = train_step(batch_item, epoch, batch, training)\n",
    "            total_loss += batch_loss\n",
    "            total_acc += batch_acc\n",
    "\n",
    "            tqdm_dataset.set_postfix({\n",
    "                'Epoch': epoch + 1,\n",
    "                'Loss': '{:06f}'.format(batch_loss.item()),\n",
    "                'Total Loss' : '{:06f}'.format(total_loss/(batch+1)),\n",
    "                'Total Acc' : '{:06f}'.format((total_acc/((batch+1) * 48)) * 100)\n",
    "            })\n",
    "        loss_plot.append(total_loss/(batch+1))\n",
    "\n",
    "        tqdm_dataset = tqdm(enumerate(val_dataloader))\n",
    "        training = False\n",
    "        for batch, batch_item in tqdm_dataset:\n",
    "            batch_loss, batch_acc = train_step(batch_item, epoch, batch, training)\n",
    "            total_val_loss += batch_loss\n",
    "            total_val_acc += batch_acc\n",
    "\n",
    "            tqdm_dataset.set_postfix({\n",
    "                'Epoch': epoch + 1,\n",
    "                'Val Loss': '{:06f}'.format(batch_loss.item()),\n",
    "                'Total Val Loss' : '{:06f}'.format(total_val_loss/(batch+1)),\n",
    "                'Total Val Acc' : '{:06f}'.format((total_val_acc/((batch+1) * 48)) * 100)\n",
    "            })\n",
    "        val_loss_plot.append(total_val_loss/(batch+1))\n",
    "        scheduler.step(total_val_loss/(batch+1))\n",
    "\n",
    "        if np.min(val_loss_plot) == val_loss_plot[-1]:\n",
    "            torch.save(model, save_path + f\"_{n}.pt\")\n",
    "            print(\"## Model Save\")"
   ]
  },
  {
   "cell_type": "markdown",
   "metadata": {},
   "source": [
    "# Test"
   ]
  },
  {
   "cell_type": "code",
   "execution_count": null,
   "metadata": {},
   "outputs": [],
   "source": []
  },
  {
   "cell_type": "code",
   "execution_count": null,
   "metadata": {},
   "outputs": [],
   "source": []
  },
  {
   "cell_type": "markdown",
   "metadata": {},
   "source": [
    "# Car"
   ]
  },
  {
   "cell_type": "code",
   "execution_count": null,
   "metadata": {},
   "outputs": [],
   "source": []
  },
  {
   "cell_type": "code",
   "execution_count": null,
   "metadata": {},
   "outputs": [],
   "source": []
  },
  {
   "cell_type": "markdown",
   "metadata": {},
   "source": [
    "# Moto"
   ]
  },
  {
   "cell_type": "code",
   "execution_count": null,
   "metadata": {},
   "outputs": [],
   "source": []
  },
  {
   "cell_type": "code",
   "execution_count": null,
   "metadata": {},
   "outputs": [],
   "source": []
  },
  {
   "cell_type": "markdown",
   "metadata": {},
   "source": [
    "# Truck"
   ]
  },
  {
   "cell_type": "code",
   "execution_count": null,
   "metadata": {},
   "outputs": [],
   "source": []
  },
  {
   "cell_type": "code",
   "execution_count": null,
   "metadata": {},
   "outputs": [],
   "source": []
  },
  {
   "cell_type": "markdown",
   "metadata": {},
   "source": [
    "# Cycle"
   ]
  },
  {
   "cell_type": "code",
   "execution_count": null,
   "metadata": {},
   "outputs": [],
   "source": []
  },
  {
   "cell_type": "code",
   "execution_count": null,
   "metadata": {},
   "outputs": [],
   "source": []
  }
 ],
 "metadata": {
  "kernelspec": {
   "display_name": "Python 3",
   "language": "python",
   "name": "python3"
  },
  "language_info": {
   "codemirror_mode": {
    "name": "ipython",
    "version": 3
   },
   "file_extension": ".py",
   "mimetype": "text/x-python",
   "name": "python",
   "nbconvert_exporter": "python",
   "pygments_lexer": "ipython3",
   "version": "3.6.10"
  }
 },
 "nbformat": 4,
 "nbformat_minor": 4
}
